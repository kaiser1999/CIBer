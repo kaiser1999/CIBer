{
 "cells": [
  {
   "cell_type": "markdown",
   "id": "761ff559",
   "metadata": {},
   "source": [
    "# CIBer Example: BankChurner\n",
    "This [Bankchurner](https://www.kaggle.com/code/thomaskonstantin/bank-churn-data-exploration-and-churn-prediction/data) dataset by Thomas Konstantin is used to illustrate the application of CIBer in Python."
   ]
  },
  {
   "cell_type": "markdown",
   "id": "06dec3b6",
   "metadata": {},
   "source": [
    "## Load all required libraries"
   ]
  },
  {
   "cell_type": "code",
   "execution_count": 1,
   "id": "7c5a5511",
   "metadata": {},
   "outputs": [
    {
     "name": "stderr",
     "output_type": "stream",
     "text": [
      "/Users/kaiser/opt/anaconda3/lib/python3.9/site-packages/scipy/__init__.py:146: UserWarning: A NumPy version >=1.16.5 and <1.23.0 is required for this version of SciPy (detected version 1.23.4\n",
      "  warnings.warn(f\"A NumPy version >={np_minversion} and <{np_maxversion}\"\n"
     ]
    }
   ],
   "source": [
    "import numpy as np\n",
    "import pandas as pd\n",
    "from sklearn.metrics import roc_auc_score, precision_score, recall_score, f1_score, accuracy_score\n",
    "from CIBer import CIBer\n",
    "import matplotlib.pyplot as plt"
   ]
  },
  {
   "cell_type": "markdown",
   "id": "c5c5c614",
   "metadata": {},
   "source": [
    "## Dataset preprocessing"
   ]
  },
  {
   "cell_type": "code",
   "execution_count": 2,
   "id": "3dfca2e7",
   "metadata": {},
   "outputs": [],
   "source": [
    "dataset = \"BankChurners\"\n",
    "df = pd.read_csv(f\"Dataset/{dataset}.csv\")\n",
    "\n",
    "# Drop unused columns\n",
    "df.drop(columns=['CLIENTNUM', \n",
    "                 'Naive_Bayes_Classifier_Attrition_Flag_Card_Category_Contacts_Count_12_mon_Dependent_count_Education_Level_Months_Inactive_12_mon_1',\n",
    "                 'Naive_Bayes_Classifier_Attrition_Flag_Card_Category_Contacts_Count_12_mon_Dependent_count_Education_Level_Months_Inactive_12_mon_2'], inplace=True)\n",
    "\n",
    "# Encode categorical feature values into discrete ones\n",
    "df['Attrition_Flag'] = pd.factorize(df['Attrition_Flag'])[0] + 0\n",
    "df['Gender'] = pd.factorize(df['Gender'])[0] + 1\n",
    "df['Education_Level'] = pd.factorize(df['Education_Level'])[0] + 1\n",
    "df['Marital_Status'] = pd.factorize(df['Marital_Status'])[0] + 1\n",
    "df['Income_Category'] = pd.factorize(df['Income_Category'])[0] + 1\n",
    "df['Card_Category'] = pd.factorize(df['Card_Category'])[0] + 1\n",
    "\n",
    "# Move label y to the last column of df\n",
    "cols = df.columns.to_list()\n",
    "cols.append(cols[0])\n",
    "cols = cols[1:]\n",
    "df = df[cols]"
   ]
  },
  {
   "cell_type": "markdown",
   "id": "a3aed4d3",
   "metadata": {},
   "source": [
    "## Sampling and Train-test split\n",
    "Since this dataset is highly imbalance, we sample 7000 datapoints as the training dataset and then pick 200 datapoints in each class as the test dataset"
   ]
  },
  {
   "cell_type": "code",
   "execution_count": 3,
   "id": "34e31708",
   "metadata": {
    "scrolled": true
   },
   "outputs": [
    {
     "data": {
      "image/png": "[encoded data removed]",
      "text/plain": [
       "<Figure size 500x500 with 1 Axes>"
      ]
     },
     "metadata": {},
     "output_type": "display_data"
    }
   ],
   "source": [
    "# Dataset preparation\n",
    "label_name = \"Attrition_Flag\"\n",
    "df_bank_y = df[label_name]\n",
    "\n",
    "fig, ax = plt.subplots(1, 1, figsize=(5, 5))\n",
    "settings = {\"rwidth\":0.3, \"bins\":[-.5,.5,1.5], \"xticks\":(0, 1), \"ec\":\"k\"}\n",
    "df_bank_y.plot.hist(**settings, title=\"Bank Churners\", color=\"red\")\n",
    "\n",
    "n_sample = 7000\n",
    "n_test = 200\n",
    "\n",
    "np.random.seed(4012)\n",
    "idx_train = np.random.choice(np.arange(len(df)), n_sample, replace=False)\n",
    "X_train = df.iloc[idx_train,:-1].to_numpy()\n",
    "y_train = df.iloc[idx_train,-1].to_numpy()\n",
    "\n",
    "# obtain test. 1500 in EACH class\n",
    "samples_per_group_dict = {0:n_test, 1:n_test}\n",
    "df_test = df[~df.index.isin(idx_train)]\n",
    "df_test = df_test.groupby(label_name).apply(lambda group: group.sample(samples_per_group_dict[group.name])).reset_index(drop=True)\n",
    "X_test = df_test.iloc[:,:-1].to_numpy()\n",
    "y_test = df_test.iloc[:,-1].to_numpy()"
   ]
  },
  {
   "cell_type": "code",
   "execution_count": 4,
   "id": "83129f1c",
   "metadata": {},
   "outputs": [
    {
     "name": "stdout",
     "output_type": "stream",
     "text": [
      "                           0     1\n",
      "Customer_Age               0    45\n",
      "Gender                     1     2\n",
      "Dependent_count            2     6\n",
      "Education_Level            3     7\n",
      "Marital_Status             4     4\n",
      "Income_Category            5     6\n",
      "Card_Category              6     4\n",
      "Months_on_book             7    44\n",
      "Total_Relationship_Count   8     6\n",
      "Months_Inactive_12_mon     9     7\n",
      "Contacts_Count_12_mon     10     7\n",
      "Credit_Limit              11  6205\n",
      "Total_Revolving_Bal       12  1974\n",
      "Avg_Open_To_Buy           13  6813\n",
      "Total_Amt_Chng_Q4_Q1      14  1158\n",
      "Total_Trans_Amt           15  5033\n",
      "Total_Trans_Ct            16   126\n",
      "Total_Ct_Chng_Q4_Q1       17   830\n",
      "Avg_Utilization_Ratio     18   964\n",
      "Attrition_Flag            19     2\n"
     ]
    }
   ],
   "source": [
    "col_idx = pd.Series(np.arange(len(df.columns.values)), index=df.columns.values)\n",
    "ncount = df.apply(lambda col: len(np.unique(col)), axis=0)\n",
    "print(pd.concat([col_idx, ncount], axis=1))"
   ]
  },
  {
   "cell_type": "markdown",
   "id": "b9ea2672",
   "metadata": {},
   "source": [
    "## Fit CIBer and make predictions\n",
    "\n",
    "cont_col is a list of indices for the continuous feature variables\n",
    "\n",
    "min_asso is the minimum threshold adopted in measuring the linear association given any pairs of feature variables. This can be found by grid-search."
   ]
  },
  {
   "cell_type": "code",
   "execution_count": 21,
   "id": "1b031bf7",
   "metadata": {},
   "outputs": [
    {
     "name": "stdout",
     "output_type": "stream",
     "text": [
      "{0: [[0], [1], [2], [3], [4], [5], [6, 11], [7], [8], [9], [10], [12], [13], [14], [15], [16], [17], [18]], 1: [[0], [1], [2], [3], [4], [5], [6, 11], [7], [8], [9], [10], [12], [13], [14], [15], [16], [17], [18]]}\n",
      "['Card_Category' 'Credit_Limit']\n",
      "['Card_Category' 'Credit_Limit']\n"
     ]
    }
   ],
   "source": [
    "# parameters to be added in CIBer\n",
    "cont_col = [7, 11, 12, 13, 14, 15, 16, 17, 18]\n",
    "min_asso = 0.95\n",
    "\n",
    "# Fit CIBer\n",
    "CIBer_clf = CIBer(cont_col=cont_col, asso_method='total_order', min_asso=min_asso, \n",
    "                  disc_method=\"auto\", n_bins=50, joint_encode=True)\n",
    "CIBer_clf.fit(X_train, y_train)\n",
    "CIBer_predict = CIBer_clf.predict(X_test)\n",
    "CIBer_proba = CIBer_clf.predict_proba(X_test)\n",
    "\n",
    "# Retreive Comonotonic clusters\n",
    "print(CIBer_clf.cluster_book)\n",
    "print(df.columns.values[[6, 11]])\n",
    "print(df.columns.values[[6, 11]])"
   ]
  },
  {
   "cell_type": "markdown",
   "id": "74346adf",
   "metadata": {},
   "source": [
    "For both the labels 0 and 1, they have the same comonotonic cluster, i.e. 'Card_Category' and 'Credit_Limit'. In particular, 'Card_Category' is a categorical feature variable representing the level of the credit card. It is then obvious that a higher level of cards would yield a greater amount in 'Credit_Limit'."
   ]
  },
  {
   "cell_type": "markdown",
   "id": "4f108b45",
   "metadata": {},
   "source": [
    "## Model assessment"
   ]
  },
  {
   "cell_type": "code",
   "execution_count": 22,
   "id": "e614ea8f",
   "metadata": {},
   "outputs": [
    {
     "name": "stdout",
     "output_type": "stream",
     "text": [
      "AUROC 0.96315\n",
      "Precision 0.9506172839506173\n",
      "Recall 0.77\n",
      "F1 0.850828729281768\n",
      "Accuracy 0.865\n"
     ]
    }
   ],
   "source": [
    "print(\"AUROC\", roc_auc_score(y_test, CIBer_proba[:,1]))\n",
    "print(\"Precision\", precision_score(y_test, CIBer_predict))\n",
    "print(\"Recall\", recall_score(y_test, CIBer_predict))\n",
    "print(\"F1\", f1_score(y_test, CIBer_predict))\n",
    "print(\"Accuracy\", accuracy_score(y_test, CIBer_predict))"
   ]
  }
 ],
 "metadata": {
  "kernelspec": {
   "display_name": "Python 3.9.13 ('base')",
   "language": "python",
   "name": "python3"
  },
  "language_info": {
   "codemirror_mode": {
    "name": "ipython",
    "version": 3
   },
   "file_extension": ".py",
   "mimetype": "text/x-python",
   "name": "python",
   "nbconvert_exporter": "python",
   "pygments_lexer": "ipython3",
   "version": "3.9.13"
  },
  "vscode": {
   "interpreter": {
    "hash": "4175b42bfa06799190e680039c299ae6fe9b9fdf86319e04f0b05204474e9231"
   }
  }
 },
 "nbformat": 4,
 "nbformat_minor": 5
}
